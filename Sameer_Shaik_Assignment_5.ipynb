{
  "cells": [
    {
      "cell_type": "code",
      "source": [],
      "metadata": {
        "id": "h3V8-KVee-o6"
      },
      "id": "h3V8-KVee-o6",
      "execution_count": null,
      "outputs": []
    },
    {
      "cell_type": "markdown",
      "source": [
        "**Sameer Shaik - G49843839**"
      ],
      "metadata": {
        "id": "Jtekw0tRe8aD"
      },
      "id": "Jtekw0tRe8aD"
    },
    {
      "cell_type": "markdown",
      "id": "dc28e76d-12a4-4aad-ba34-a14d1f416318",
      "metadata": {
        "id": "dc28e76d-12a4-4aad-ba34-a14d1f416318"
      },
      "source": [
        "**Exercise 5-1:**  **Observable Markov Model**\n",
        "\n",
        "Consider a simple 3-state Markov model of the weather. We assume that once a day (e.g. at noon), the weather is observed as being one of the following: <br>\n",
        "\n",
        "- State 1: rain or snow <br>\n",
        "- State 2: cloudy <br>\n",
        "- State 3: sunny <br>\n",
        "\n",
        "We postulate that the weather on day t is characterized by a single one of the three states above. We have the following transition probabilities:"
      ]
    },
    {
      "cell_type": "markdown",
      "id": "475795eb-c448-486d-8308-b5a144116fa8",
      "metadata": {
        "id": "475795eb-c448-486d-8308-b5a144116fa8"
      },
      "source": [
        "<center><img src=\"../images/markov_states.jpg\" alt=\"Drawing\" style=\"width: 700px;\"/></center>"
      ]
    },
    {
      "cell_type": "markdown",
      "id": "cd4ac112-95e4-4610-9f1d-330929ba81d6",
      "metadata": {
        "id": "cd4ac112-95e4-4610-9f1d-330929ba81d6"
      },
      "source": [
        "a. Given that the weather on day 1 (t=1) is rainy, what is the probability that the weather on the\n",
        "next five days is: {S1, S2, S3, S3, S1}?"
      ]
    },
    {
      "cell_type": "markdown",
      "id": "2f6dc575-e359-4562-a42d-b71e2f6d8655",
      "metadata": {
        "id": "2f6dc575-e359-4562-a42d-b71e2f6d8655"
      },
      "source": [
        ">Answer:\n",
        "\n",
        "To find this probability, we multiply the transition probabilities along the path of the specified states for the 5 days and from the given model we can say this that :\n",
        "\n",
        "From S1 to S1: P(S1|S1) = 0.4\n",
        "\n",
        "From S1 to S2: P(S2|S1) = 0.3\n",
        "\n",
        "From S2 to S3: P(S3|S2) = 0.6\n",
        "\n",
        "From S3 to S3: P(S3|S3) = 0.8 (This transition happens twice, so it will be squared)\n",
        "\n",
        "From S3 to S1: P(S1|S3) = 0.1\n",
        "\n",
        "Now we calculate the probability as:\n",
        "\n",
        " P(S1, S2, S3, S3, S1) = P(S1|S1) X P(S2|S1) X  P(S3|S2) X (P(S3|S3))^2 X P(S1|S3)\n",
        "\n",
        "P(S1, S2, S3, S3, S1) = 0.4 X 0.3 X 0.6 X 0.8^2 X 0.1\n",
        "\n",
        "P(S1, S2, S3, S3, S1) = 0.4 X 0.3 X 0.6 X 0.64 X 0.1\n",
        "\n",
        "P(S1, S2, S3, S3, S1) = 0.004608\n",
        "\n",
        "\n",
        "So, the probability that the weather on the next five days follows the pattern rain or snow, cloudy, sunny, sunny, rain or snow  is approximately 0.004608, or 0.4608%.\n"
      ]
    },
    {
      "cell_type": "markdown",
      "id": "1cb8b245-0416-441c-bb3d-8c8657ffe8b4",
      "metadata": {
        "id": "1cb8b245-0416-441c-bb3d-8c8657ffe8b4"
      },
      "source": [
        "b. Given that the model is in a known state, what is the probability it stays in that state for exactly d days?"
      ]
    },
    {
      "cell_type": "markdown",
      "id": "bf3d766d-3b5a-47dd-8711-19d5aa836123",
      "metadata": {
        "id": "bf3d766d-3b5a-47dd-8711-19d5aa836123"
      },
      "source": [
        "> Answer:\n",
        "\n",
        "P(StayS) is the probability of the model staying in a particular state S  on any given day.\n",
        "\n",
        "P(Stay For Exactly d Days) is the probability that the model will stay in state S for d  consecutive days and then transition to a different state on the( (d+1)th day.\n",
        "\n",
        "\n",
        "This is calculated as:\n",
        "\n",
        "$$ P(\\text{Stay For Exactly d Days}) = (P(\\text{StayS})^d) \\times (1 - P(\\text{StayS})) $$\n",
        "\n",
        "Where:\n",
        "\n",
        "***P(StayS)^d***  represents the probability of staying in state S for d consecutive days.\n",
        "\n",
        "***(1 - P(StayS))*** represents the probability of transitioning out of state s after exactly d days.\n",
        "\n",
        "\n",
        "\n",
        "This formula assumes that the process is memoryless, which is a key property of Markov models; the probability of moving to the next state depends only on the current state and not on the sequence of events that preceded it.\n"
      ]
    },
    {
      "cell_type": "markdown",
      "id": "742b6fd1-b5ae-4838-9582-af611ff2ec70",
      "metadata": {
        "id": "742b6fd1-b5ae-4838-9582-af611ff2ec70"
      },
      "source": [
        "c. What is the expected number of observations in a state? Note:  $$\\sum_{d=1}^\\infty da^{d-1} = \\frac{1}{(a-1)^2}$$ when |a| < 1"
      ]
    },
    {
      "cell_type": "markdown",
      "id": "f1a7f98b-6fec-4ac3-9f98-5e983881fc8d",
      "metadata": {
        "id": "f1a7f98b-6fec-4ac3-9f98-5e983881fc8d"
      },
      "source": [
        "To find the expected number of observations in a given state before transitioning out for the provided Markov model, we will use the given formula:\n",
        "\n",
        "\n",
        "$$ E = \\frac{1}{(1 - P(\\text{StayS}))^2}$$ \\\n",
        "\n",
        "This needs to be calculated for each state, given the probability of staying in that state.\n",
        "\n",
        "From the Markov model given earlier:\n",
        "\n",
        " $$ State 1 (S1): \\( P(\\text{StayS1}) = 0.4 \\$$\n",
        "\n",
        " $$ State 2 (S2): \\( P(\\text{StayS2}) = 0.6 \\$$\n",
        "\n",
        " $$ State 3 (S3): \\( P(\\text{StayS3}) = 0.8 \\$$\n",
        "\n",
        "\n",
        "Now we will calculate the expected number of days for each state:\n",
        "\n",
        "$$ S1:\n",
        "\\[ E_{S1} = \\frac{1}{(1 - 0.4)^2} = \\frac{1}{(0.6)^2} = \\frac{1}{0.36} \\approx 2.78 \\$$\n",
        "\n",
        "$$ S2:\n",
        "\\[ E_{S2} = \\frac{1}{(1 - 0.6)^2} = \\frac{1}{(0.4)^2} = \\frac{1}{0.16} = 6.25 \\$$\n",
        "\n",
        "$$ S3:\n",
        "\\[ E_{S3} = \\frac{1}{(1 - 0.8)^2} = \\frac{1}{(0.2)^2} = \\frac{1}{0.04} = 25 \\$$\n",
        "\n",
        "So the expected number of observations (or days) in each state before transitioning out is approximately:\n",
        "\n",
        "2.78 days for State 1 (rain or snow),\n",
        "\n",
        "6.25 days for State 2 (cloudy),\n",
        "\n",
        "25 days for State 3 (sunny)."
      ]
    },
    {
      "cell_type": "markdown",
      "id": "5127529c-868f-42d8-819c-0def3b7593c7",
      "metadata": {
        "id": "5127529c-868f-42d8-819c-0def3b7593c7"
      },
      "source": [
        "**Exercise 5-2:** **Hidden Markov Model** <br>"
      ]
    },
    {
      "cell_type": "markdown",
      "id": "f07c00fd-27fc-496c-9b63-a0158e5ac6e2",
      "metadata": {
        "id": "f07c00fd-27fc-496c-9b63-a0158e5ac6e2"
      },
      "source": [
        "Suppose we want to determine the average annual temperature at a particular location on the earth over a series of years. To make it interesting, suppose the years we are concerned with lie in the distant past, before thermometers were invented.  Since we can't go back in time, we instead look for indirect evidence of the temperature."
      ]
    },
    {
      "cell_type": "markdown",
      "id": "c43ba68c-c342-4335-900c-365e5090a5f4",
      "metadata": {
        "id": "c43ba68c-c342-4335-900c-365e5090a5f4"
      },
      "source": [
        "To simplify the problem, we only consider two annual temperatures, \"hot\" and \"cold\". Suppose that modern evidence indicates that the probability of a hot year followed by another hot year is 0.7 and the probability that a cold year is followed by another cold year is 0.6.  We'll assume that these probabilities held in the distant past as well.  The information so far can be summarized as:"
      ]
    },
    {
      "cell_type": "markdown",
      "id": "113a6598-9697-42b8-8471-25808e4f7e68",
      "metadata": {
        "id": "113a6598-9697-42b8-8471-25808e4f7e68"
      },
      "source": [
        "$$\n",
        "\\begin{bmatrix}\n",
        "& H & C \\\\\n",
        "H & 0.7 & 0.3 \\\\\n",
        "C & 0.4 & 0.6 \\\\\n",
        "\\end{bmatrix}\n",
        "$$"
      ]
    },
    {
      "cell_type": "markdown",
      "id": "92a09e6f-2097-4406-a004-e446ac4c9f56",
      "metadata": {
        "id": "92a09e6f-2097-4406-a004-e446ac4c9f56"
      },
      "source": [
        "where H is \"hot\" and C is \"cold'."
      ]
    },
    {
      "cell_type": "markdown",
      "id": "76ec1804-411a-4798-84d5-cbe2a26ec5dc",
      "metadata": {
        "id": "76ec1804-411a-4798-84d5-cbe2a26ec5dc"
      },
      "source": [
        "Also suppose that current research indicates a correlation between the size of tree growth rings and temperature.  For simplicity, we only consider three different tree ring sizes, small, medium, and large or S, M, and L, respectively.  Finally, suppose that based on available evidence, the probabilistic relationship between annual temperature and tree ring sizes is given by"
      ]
    },
    {
      "cell_type": "markdown",
      "id": "601552f9-4da0-497a-8ff9-7484dbe93d8e",
      "metadata": {
        "id": "601552f9-4da0-497a-8ff9-7484dbe93d8e"
      },
      "source": [
        "$$\n",
        "\\begin{array}{c|ccc}\n",
        "& S & M & L \\\\\n",
        "\\hline\n",
        "H & 0.1 & 0.4 & 0.5 \\\\\n",
        "C & 0.7 & 0.2 & 0.1 \\\\\n",
        "\\end{array}\n",
        "$$"
      ]
    },
    {
      "cell_type": "markdown",
      "id": "8c221a12-2d52-44c7-9243-1b884d0c1abe",
      "metadata": {
        "id": "8c221a12-2d52-44c7-9243-1b884d0c1abe"
      },
      "source": [
        "Suppose the initial distribution is $\\pi$ = (0.6, 0.4).  You have the following observation sequence {S, L, L}. Compute the distribution of states as well as the most likely sequence."
      ]
    },
    {
      "cell_type": "code",
      "execution_count": 13,
      "id": "c47e1d22-c9dd-4071-beb1-80583f70e1c0",
      "metadata": {
        "colab": {
          "base_uri": "https://localhost:8080/"
        },
        "id": "c47e1d22-c9dd-4071-beb1-80583f70e1c0",
        "outputId": "87fc7f74-7611-46c3-8dd4-67016652b615"
      },
      "outputs": [
        {
          "output_type": "stream",
          "name": "stdout",
          "text": [
            "Requirement already satisfied: hmmlearn in /usr/local/lib/python3.10/dist-packages (0.3.2)\n",
            "Requirement already satisfied: numpy>=1.10 in /usr/local/lib/python3.10/dist-packages (from hmmlearn) (1.25.2)\n",
            "Requirement already satisfied: scikit-learn!=0.22.0,>=0.16 in /usr/local/lib/python3.10/dist-packages (from hmmlearn) (1.2.2)\n",
            "Requirement already satisfied: scipy>=0.19 in /usr/local/lib/python3.10/dist-packages (from hmmlearn) (1.11.4)\n",
            "Requirement already satisfied: joblib>=1.1.1 in /usr/local/lib/python3.10/dist-packages (from scikit-learn!=0.22.0,>=0.16->hmmlearn) (1.3.2)\n",
            "Requirement already satisfied: threadpoolctl>=2.0.0 in /usr/local/lib/python3.10/dist-packages (from scikit-learn!=0.22.0,>=0.16->hmmlearn) (3.4.0)\n"
          ]
        }
      ],
      "source": [
        "pip install hmmlearn\n"
      ]
    },
    {
      "cell_type": "markdown",
      "source": [],
      "metadata": {
        "id": "cw-5mpSue6Ij"
      },
      "id": "cw-5mpSue6Ij"
    },
    {
      "cell_type": "code",
      "source": [
        "from hmmlearn.hmm import CategoricalHMM\n",
        "import numpy as np\n",
        "\n",
        "# First we define the number of hidden states and possible observations\n",
        "num_states = 2\n",
        "num_obs = 3\n",
        "\n",
        "# then the transition probability matrix\n",
        "transitions = np.array([\n",
        "    [0.7, 0.3],\n",
        "    [0.4, 0.6]\n",
        "])\n",
        "\n",
        "# then the emission probability matrix\n",
        "emissions = np.array([\n",
        "    [0.1, 0.4, 0.5],\n",
        "    [0.7, 0.2, 0.1]\n",
        "])\n",
        "\n",
        "# Initial probability distribution of starting hidden states\n",
        "initial_probs = np.array([0.6, 0.4])\n",
        "\n",
        "# Create an instance of the Categorical HMM model\n",
        "model = CategoricalHMM(n_components=num_states)\n",
        "\n",
        "# Set the model parameters\n",
        "model.startprob_ = initial_probs\n",
        "model.transmat_ = transitions\n",
        "model.emissionprob_ = emissions\n",
        "\n",
        "# Define an observation sequence for which we want to predict the hidden states\n",
        "obs = np.array([[0, 2, 2]]).T\n",
        "\n",
        "# Decode the most likely sequence of hidden states given the observation sequence\n",
        "log_prob, states = model.decode(obs, algorithm=\"viterbi\")\n",
        "\n",
        "# Define labels for weather states and observation levels\n",
        "weather_states = ['Hot', 'Cold']\n",
        "obs_levels = ['Small', 'Medium', 'Large']\n",
        "\n",
        "# Map the predicted hidden states to meaningful labels\n",
        "predicted_weather = [weather_states[state] for state in states]\n",
        "\n",
        "# Map the observed states to meaningful labels\n",
        "observations = [obs_levels[ob[0]] for ob in obs]\n",
        "\n",
        "# Print the observations and the predicted weather states\n",
        "print(\"Observed Levels of Rainfall:\", observations)\n",
        "print(\"Predicted Weather States:\", predicted_weather)\n"
      ],
      "metadata": {
        "colab": {
          "base_uri": "https://localhost:8080/"
        },
        "id": "81Ry85uYcTri",
        "outputId": "eca99c28-fdd7-45f3-8a8a-0d2ecf7dfd8b"
      },
      "id": "81Ry85uYcTri",
      "execution_count": 9,
      "outputs": [
        {
          "output_type": "stream",
          "name": "stdout",
          "text": [
            "Observed Levels of Rainfall: ['Small', 'Large', 'Large']\n",
            "Predicted Weather States: ['Cold', 'Hot', 'Hot']\n"
          ]
        }
      ]
    },
    {
      "cell_type": "code",
      "source": [
        "import numpy as np\n",
        "\n",
        "# we can also use this Arlgorithm , viterbi Algorithm\n",
        "\n",
        "# Given matrices and initial distribution\n",
        "transition_matrix = np.array([[0.7, 0.3], [0.4, 0.6]])\n",
        "emission_matrix = np.array([[0.1, 0.4, 0.5], [0.7, 0.2, 0.1]])\n",
        "initial_distribution = np.array([0.6, 0.4])\n",
        "\n",
        "# The observation sequence (S, L, L)\n",
        "# In the emission matrix, 'S' corresponds to column 0 and 'L' to column 2\n",
        "observations = [0, 2, 2]\n",
        "\n",
        "# Viterbi Algorithm\n",
        "def viterbi(transition_matrix, emission_matrix, initial_distribution, observations):\n",
        "    num_states = transition_matrix.shape[0]\n",
        "    num_observations = len(observations)\n",
        "\n",
        "    # Initialize the Viterbi table and path pointers\n",
        "    viterbi_table = np.zeros((num_states, num_observations))\n",
        "    path_pointers = np.zeros((num_states, num_observations), dtype=int)\n",
        "\n",
        "    # Initialize the first column of the Viterbi table\n",
        "    viterbi_table[:, 0] = initial_distribution * emission_matrix[:, observations[0]]\n",
        "\n",
        "    # Fill in the Viterbi table\n",
        "    for t in range(1, num_observations):\n",
        "        for s in range(num_states):\n",
        "            prob = viterbi_table[:, t-1] * transition_matrix[:, s]\n",
        "            viterbi_table[s, t] = np.max(prob) * emission_matrix[s, observations[t]]\n",
        "            path_pointers[s, t] = np.argmax(prob)\n",
        "\n",
        "    # Backtrack to find the optimal path\n",
        "    best_path = np.zeros(num_observations, dtype=int)\n",
        "    best_path[-1] = np.argmax(viterbi_table[:, -1])\n",
        "\n",
        "    for t in range(num_observations - 2, -1, -1):\n",
        "        best_path[t] = path_pointers[best_path[t+1], t+1]\n",
        "\n",
        "    return best_path\n",
        "\n",
        "# Run the Viterbi algorithm\n",
        "best_path = viterbi(transition_matrix, emission_matrix, initial_distribution, observations)\n",
        "\n",
        "# Translate numbers to descriptive labels\n",
        "observed_labels = ['Small', 'Medium', 'Large']\n",
        "state_labels = ['Cold', 'Hot']\n",
        "\n",
        "# Convert numerical observations to actual labels\n",
        "observed_rainfall_levels = [observed_labels[o] for o in observations]\n",
        "# Convert numerical states to actual labels\n",
        "predicted_weather_states = [state_labels[s] for s in best_path]\n",
        "\n",
        "# Output\n",
        "print(f\"Observed Levels of Rainfall: {observed_rainfall_levels}\")\n",
        "print(f\"Predicted Weather States: {predicted_weather_states}\")\n"
      ],
      "metadata": {
        "colab": {
          "base_uri": "https://localhost:8080/"
        },
        "id": "OGhzxF-rdR1K",
        "outputId": "610bfce2-0d57-4a6e-a57e-1604a8875de9"
      },
      "id": "OGhzxF-rdR1K",
      "execution_count": 12,
      "outputs": [
        {
          "output_type": "stream",
          "name": "stdout",
          "text": [
            "Observed Levels of Rainfall: ['Small', 'Large', 'Large']\n",
            "Predicted Weather States: ['Hot', 'Cold', 'Cold']\n"
          ]
        }
      ]
    }
  ],
  "metadata": {
    "kernelspec": {
      "display_name": "Python 3 (ipykernel)",
      "language": "python",
      "name": "python3"
    },
    "language_info": {
      "codemirror_mode": {
        "name": "ipython",
        "version": 3
      },
      "file_extension": ".py",
      "mimetype": "text/x-python",
      "name": "python",
      "nbconvert_exporter": "python",
      "pygments_lexer": "ipython3",
      "version": "3.9.18"
    },
    "colab": {
      "provenance": []
    }
  },
  "nbformat": 4,
  "nbformat_minor": 5
}
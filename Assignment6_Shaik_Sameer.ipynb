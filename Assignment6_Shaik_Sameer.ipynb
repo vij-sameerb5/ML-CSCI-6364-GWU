{
 "cells": [
  {
   "cell_type": "markdown",
   "metadata": {},
   "source": [
    "#### Sameer Shaik\n",
    "#### G49843839"
   ]
  },
  {
   "cell_type": "markdown",
   "metadata": {},
   "source": [
    "In this assignment, you will become familiar with the deep learning library Pytorch through the construction of a feed-forward neural network and a convolutional neural network applied to the MNIST dataset.  In various parts of the notebook, there will be places to fill in."
   ]
  },
  {
   "cell_type": "code",
   "execution_count": 33,
   "metadata": {},
   "outputs": [],
   "source": [
    "import numpy as np # to handle matrix and data operation\n",
    "import pandas as pd # to read csv and handle dataframe\n",
    "\n",
    "import torch\n",
    "import torch.nn as nn\n",
    "import torch.nn.functional as F\n",
    "import torch.utils.data\n",
    "from torch.autograd import Variable\n",
    "import torch.optim as optim\n",
    "\n",
    "import matplotlib.pyplot as plt\n",
    "\n",
    "from sklearn.model_selection import train_test_split\n",
    "\n",
    "# CUDA?\n",
    "cuda = torch.cuda.is_available()\n",
    "\n",
    "# For reproducibility\n",
    "SEED = 1\n",
    "torch.manual_seed(SEED)\n",
    "\n",
    "if cuda:\n",
    "    torch.cuda.manual_seed(SEED)"
   ]
  },
  {
   "cell_type": "markdown",
   "metadata": {},
   "source": [
    "Download and use the MNIST dataset from Homework 1."
   ]
  },
  {
   "cell_type": "code",
   "execution_count": 34,
   "metadata": {},
   "outputs": [
    {
     "name": "stdout",
     "output_type": "stream",
     "text": [
      "(42000, 785)\n"
     ]
    }
   ],
   "source": [
    "dataset_filename = '../data/data_mnist.csv' # fill in\n",
    "df = pd.read_csv(dataset_filename)\n",
    "print(df.shape)"
   ]
  },
  {
   "cell_type": "code",
   "execution_count": 35,
   "metadata": {},
   "outputs": [],
   "source": [
    "y = df.iloc[:, 0].to_numpy()  # fill in\n",
    "X = df.iloc[:, 1:].to_numpy()  #fill in\n",
    "\n",
    "X_train, X_test, y_train, y_test = train_test_split(X, y, test_size=0.15)"
   ]
  },
  {
   "cell_type": "code",
   "execution_count": 36,
   "metadata": {},
   "outputs": [
    {
     "name": "stdout",
     "output_type": "stream",
     "text": [
      "(6300,)\n"
     ]
    }
   ],
   "source": [
    "print(y_test.shape)"
   ]
  },
  {
   "cell_type": "code",
   "execution_count": 37,
   "metadata": {},
   "outputs": [],
   "source": [
    "BATCH_SIZE = 32\n",
    "\n",
    "torch_X_train = torch.from_numpy(X_train).type(torch.LongTensor)\n",
    "torch_y_train = torch.from_numpy(y_train).type(torch.LongTensor) # data type is long\n",
    "\n",
    "# create feature and targets tensor for test set.\n",
    "torch_X_test = torch.from_numpy(X_test).type(torch.LongTensor)\n",
    "torch_y_test = torch.from_numpy(y_test).type(torch.LongTensor) # data type is long\n",
    "\n",
    "# Pytorch train and test sets\n",
    "train = torch.utils.data.TensorDataset(torch_X_train,torch_y_train)\n",
    "test = torch.utils.data.TensorDataset(torch_X_test,torch_y_test)\n",
    "\n",
    "# data loader\n",
    "train_loader = torch.utils.data.DataLoader(train, batch_size = BATCH_SIZE, shuffle = False)\n",
    "test_loader = torch.utils.data.DataLoader(test, batch_size = BATCH_SIZE, shuffle = False)"
   ]
  },
  {
   "cell_type": "code",
   "execution_count": 38,
   "metadata": {},
   "outputs": [
    {
     "name": "stdout",
     "output_type": "stream",
     "text": [
      "MLP(\n",
      "  (linear1): Linear(in_features=784, out_features=250, bias=True)\n",
      "  (linear2): Linear(in_features=250, out_features=100, bias=True)\n",
      "  (linear3): Linear(in_features=100, out_features=10, bias=True)\n",
      ")\n"
     ]
    }
   ],
   "source": [
    "input_dim = X_train.shape[1]\n",
    "output_dim = len(np.unique(y_train))\n",
    "\n",
    "class MLP(nn.Module):\n",
    "    def __init__(self):\n",
    "        super(MLP, self).__init__()\n",
    "        self.linear1 = nn.Linear(input_dim,250)\n",
    "        self.linear2 = nn.Linear(250,100)\n",
    "        self.linear3 = nn.Linear(100,output_dim)\n",
    "    \n",
    "    def forward(self,X):\n",
    "        X = F.relu(self.linear1(X))\n",
    "        X = F.relu(self.linear2(X))\n",
    "        X = self.linear3(X)\n",
    "        return F.log_softmax(X, dim=1)\n",
    "\n",
    "mlp = MLP()\n",
    "print(mlp)"
   ]
  },
  {
   "cell_type": "code",
   "execution_count": 39,
   "metadata": {},
   "outputs": [],
   "source": [
    "def fit(model, train_loader):\n",
    "    optimizer = torch.optim.Adam(model.parameters())\n",
    "    error = nn.CrossEntropyLoss()\n",
    "    EPOCHS = 5\n",
    "    model.train()\n",
    "    for epoch in range(EPOCHS):\n",
    "        correct = 0\n",
    "        for batch_idx, (X_batch, y_batch) in enumerate(train_loader):\n",
    "            var_X_batch = Variable(X_batch).float()\n",
    "            var_y_batch = Variable(y_batch)\n",
    "            optimizer.zero_grad()\n",
    "            output = model(var_X_batch)\n",
    "            loss = error(output, var_y_batch)\n",
    "            loss.backward()\n",
    "            optimizer.step()\n",
    "\n",
    "            # Total correct predictions\n",
    "            predicted = torch.max(output.data, 1)[1] \n",
    "            correct += (predicted == var_y_batch).sum()\n",
    "            #print(correct)\n",
    "            if batch_idx % 50 == 0:\n",
    "                print('Epoch : {} [{}/{} ({:.0f}%)]\\tLoss: {:.6f}\\t Accuracy:{:.3f}%'.format(\n",
    "                    epoch, batch_idx*len(X_batch), len(train_loader.dataset), 100.*batch_idx / len(train_loader), loss.data, float(correct*100) / float(BATCH_SIZE*(batch_idx+1))))"
   ]
  },
  {
   "cell_type": "code",
   "execution_count": 40,
   "metadata": {},
   "outputs": [
    {
     "name": "stdout",
     "output_type": "stream",
     "text": [
      "Epoch : 0 [0/35700 (0%)]\tLoss: 13.632271\t Accuracy:6.250%\n",
      "Epoch : 0 [1600/35700 (4%)]\tLoss: 0.539928\t Accuracy:64.461%\n",
      "Epoch : 0 [3200/35700 (9%)]\tLoss: 0.353133\t Accuracy:73.731%\n",
      "Epoch : 0 [4800/35700 (13%)]\tLoss: 0.946102\t Accuracy:78.311%\n",
      "Epoch : 0 [6400/35700 (18%)]\tLoss: 0.078643\t Accuracy:81.032%\n",
      "Epoch : 0 [8000/35700 (22%)]\tLoss: 0.617004\t Accuracy:82.719%\n",
      "Epoch : 0 [9600/35700 (27%)]\tLoss: 0.287859\t Accuracy:83.866%\n",
      "Epoch : 0 [11200/35700 (31%)]\tLoss: 0.169321\t Accuracy:84.980%\n",
      "Epoch : 0 [12800/35700 (36%)]\tLoss: 0.473536\t Accuracy:85.754%\n",
      "Epoch : 0 [14400/35700 (40%)]\tLoss: 0.217581\t Accuracy:86.433%\n",
      "Epoch : 0 [16000/35700 (45%)]\tLoss: 0.298029\t Accuracy:87.020%\n",
      "Epoch : 0 [17600/35700 (49%)]\tLoss: 0.259469\t Accuracy:87.506%\n",
      "Epoch : 0 [19200/35700 (54%)]\tLoss: 0.129099\t Accuracy:87.812%\n",
      "Epoch : 0 [20800/35700 (58%)]\tLoss: 0.140135\t Accuracy:88.100%\n",
      "Epoch : 0 [22400/35700 (63%)]\tLoss: 0.297572\t Accuracy:88.369%\n",
      "Epoch : 0 [24000/35700 (67%)]\tLoss: 0.732939\t Accuracy:88.686%\n",
      "Epoch : 0 [25600/35700 (72%)]\tLoss: 0.035841\t Accuracy:89.006%\n",
      "Epoch : 0 [27200/35700 (76%)]\tLoss: 0.138647\t Accuracy:89.263%\n",
      "Epoch : 0 [28800/35700 (81%)]\tLoss: 0.095077\t Accuracy:89.418%\n",
      "Epoch : 0 [30400/35700 (85%)]\tLoss: 0.138968\t Accuracy:89.679%\n",
      "Epoch : 0 [32000/35700 (90%)]\tLoss: 0.208937\t Accuracy:89.870%\n",
      "Epoch : 0 [33600/35700 (94%)]\tLoss: 0.318395\t Accuracy:90.030%\n",
      "Epoch : 0 [35200/35700 (99%)]\tLoss: 0.076637\t Accuracy:90.162%\n",
      "Epoch : 1 [0/35700 (0%)]\tLoss: 0.179747\t Accuracy:93.750%\n",
      "Epoch : 1 [1600/35700 (4%)]\tLoss: 0.379678\t Accuracy:93.444%\n",
      "Epoch : 1 [3200/35700 (9%)]\tLoss: 0.018902\t Accuracy:93.379%\n",
      "Epoch : 1 [4800/35700 (13%)]\tLoss: 0.346280\t Accuracy:93.688%\n",
      "Epoch : 1 [6400/35700 (18%)]\tLoss: 0.023474\t Accuracy:93.999%\n",
      "Epoch : 1 [8000/35700 (22%)]\tLoss: 0.400554\t Accuracy:94.285%\n",
      "Epoch : 1 [9600/35700 (27%)]\tLoss: 0.217204\t Accuracy:94.300%\n",
      "Epoch : 1 [11200/35700 (31%)]\tLoss: 0.217535\t Accuracy:94.355%\n",
      "Epoch : 1 [12800/35700 (36%)]\tLoss: 0.179588\t Accuracy:94.436%\n",
      "Epoch : 1 [14400/35700 (40%)]\tLoss: 0.209092\t Accuracy:94.471%\n",
      "Epoch : 1 [16000/35700 (45%)]\tLoss: 0.072472\t Accuracy:94.492%\n",
      "Epoch : 1 [17600/35700 (49%)]\tLoss: 0.020157\t Accuracy:94.527%\n",
      "Epoch : 1 [19200/35700 (54%)]\tLoss: 0.263467\t Accuracy:94.540%\n",
      "Epoch : 1 [20800/35700 (58%)]\tLoss: 0.124401\t Accuracy:94.513%\n",
      "Epoch : 1 [22400/35700 (63%)]\tLoss: 0.248604\t Accuracy:94.575%\n",
      "Epoch : 1 [24000/35700 (67%)]\tLoss: 0.204138\t Accuracy:94.728%\n",
      "Epoch : 1 [25600/35700 (72%)]\tLoss: 0.021723\t Accuracy:94.776%\n",
      "Epoch : 1 [27200/35700 (76%)]\tLoss: 0.057355\t Accuracy:94.811%\n",
      "Epoch : 1 [28800/35700 (81%)]\tLoss: 0.101137\t Accuracy:94.863%\n",
      "Epoch : 1 [30400/35700 (85%)]\tLoss: 0.081375\t Accuracy:94.894%\n",
      "Epoch : 1 [32000/35700 (90%)]\tLoss: 0.220588\t Accuracy:94.883%\n",
      "Epoch : 1 [33600/35700 (94%)]\tLoss: 0.253902\t Accuracy:94.892%\n",
      "Epoch : 1 [35200/35700 (99%)]\tLoss: 0.249271\t Accuracy:94.874%\n",
      "Epoch : 2 [0/35700 (0%)]\tLoss: 0.063687\t Accuracy:100.000%\n",
      "Epoch : 2 [1600/35700 (4%)]\tLoss: 0.786229\t Accuracy:96.140%\n",
      "Epoch : 2 [3200/35700 (9%)]\tLoss: 0.068295\t Accuracy:95.328%\n",
      "Epoch : 2 [4800/35700 (13%)]\tLoss: 0.293589\t Accuracy:95.219%\n",
      "Epoch : 2 [6400/35700 (18%)]\tLoss: 0.010923\t Accuracy:95.320%\n",
      "Epoch : 2 [8000/35700 (22%)]\tLoss: 0.209911\t Accuracy:95.505%\n",
      "Epoch : 2 [9600/35700 (27%)]\tLoss: 0.111576\t Accuracy:95.515%\n",
      "Epoch : 2 [11200/35700 (31%)]\tLoss: 0.457947\t Accuracy:95.637%\n",
      "Epoch : 2 [12800/35700 (36%)]\tLoss: 0.227607\t Accuracy:95.722%\n",
      "Epoch : 2 [14400/35700 (40%)]\tLoss: 0.054970\t Accuracy:95.856%\n",
      "Epoch : 2 [16000/35700 (45%)]\tLoss: 0.026868\t Accuracy:95.877%\n",
      "Epoch : 2 [17600/35700 (49%)]\tLoss: 0.039012\t Accuracy:95.860%\n",
      "Epoch : 2 [19200/35700 (54%)]\tLoss: 0.200692\t Accuracy:95.851%\n",
      "Epoch : 2 [20800/35700 (58%)]\tLoss: 0.287642\t Accuracy:95.795%\n",
      "Epoch : 2 [22400/35700 (63%)]\tLoss: 0.120432\t Accuracy:95.783%\n",
      "Epoch : 2 [24000/35700 (67%)]\tLoss: 0.099436\t Accuracy:95.756%\n",
      "Epoch : 2 [25600/35700 (72%)]\tLoss: 0.067588\t Accuracy:95.818%\n",
      "Epoch : 2 [27200/35700 (76%)]\tLoss: 0.010762\t Accuracy:95.898%\n",
      "Epoch : 2 [28800/35700 (81%)]\tLoss: 0.356440\t Accuracy:95.845%\n",
      "Epoch : 2 [30400/35700 (85%)]\tLoss: 0.039002\t Accuracy:95.856%\n",
      "Epoch : 2 [32000/35700 (90%)]\tLoss: 0.151149\t Accuracy:95.839%\n",
      "Epoch : 2 [33600/35700 (94%)]\tLoss: 0.071622\t Accuracy:95.855%\n",
      "Epoch : 2 [35200/35700 (99%)]\tLoss: 0.016065\t Accuracy:95.816%\n",
      "Epoch : 3 [0/35700 (0%)]\tLoss: 0.082207\t Accuracy:96.875%\n",
      "Epoch : 3 [1600/35700 (4%)]\tLoss: 0.415400\t Accuracy:96.140%\n",
      "Epoch : 3 [3200/35700 (9%)]\tLoss: 0.027825\t Accuracy:95.699%\n",
      "Epoch : 3 [4800/35700 (13%)]\tLoss: 0.200695\t Accuracy:95.778%\n",
      "Epoch : 3 [6400/35700 (18%)]\tLoss: 0.059401\t Accuracy:95.849%\n",
      "Epoch : 3 [8000/35700 (22%)]\tLoss: 0.305175\t Accuracy:96.028%\n",
      "Epoch : 3 [9600/35700 (27%)]\tLoss: 0.051185\t Accuracy:96.096%\n",
      "Epoch : 3 [11200/35700 (31%)]\tLoss: 0.265668\t Accuracy:96.172%\n",
      "Epoch : 3 [12800/35700 (36%)]\tLoss: 0.242387\t Accuracy:96.220%\n",
      "Epoch : 3 [14400/35700 (40%)]\tLoss: 0.041083\t Accuracy:96.244%\n",
      "Epoch : 3 [16000/35700 (45%)]\tLoss: 0.026837\t Accuracy:96.376%\n",
      "Epoch : 3 [17600/35700 (49%)]\tLoss: 0.011546\t Accuracy:96.461%\n",
      "Epoch : 3 [19200/35700 (54%)]\tLoss: 0.283696\t Accuracy:96.454%\n",
      "Epoch : 3 [20800/35700 (58%)]\tLoss: 0.269549\t Accuracy:96.400%\n",
      "Epoch : 3 [22400/35700 (63%)]\tLoss: 0.057039\t Accuracy:96.407%\n",
      "Epoch : 3 [24000/35700 (67%)]\tLoss: 0.146336\t Accuracy:96.405%\n",
      "Epoch : 3 [25600/35700 (72%)]\tLoss: 0.104431\t Accuracy:96.422%\n",
      "Epoch : 3 [27200/35700 (76%)]\tLoss: 0.020314\t Accuracy:96.456%\n",
      "Epoch : 3 [28800/35700 (81%)]\tLoss: 0.027807\t Accuracy:96.476%\n",
      "Epoch : 3 [30400/35700 (85%)]\tLoss: 0.227830\t Accuracy:96.507%\n",
      "Epoch : 3 [32000/35700 (90%)]\tLoss: 0.145002\t Accuracy:96.522%\n",
      "Epoch : 3 [33600/35700 (94%)]\tLoss: 0.104589\t Accuracy:96.554%\n",
      "Epoch : 3 [35200/35700 (99%)]\tLoss: 0.059844\t Accuracy:96.495%\n",
      "Epoch : 4 [0/35700 (0%)]\tLoss: 0.009168\t Accuracy:100.000%\n",
      "Epoch : 4 [1600/35700 (4%)]\tLoss: 0.519032\t Accuracy:96.201%\n",
      "Epoch : 4 [3200/35700 (9%)]\tLoss: 0.007860\t Accuracy:96.225%\n",
      "Epoch : 4 [4800/35700 (13%)]\tLoss: 0.081151\t Accuracy:96.192%\n",
      "Epoch : 4 [6400/35700 (18%)]\tLoss: 0.024336\t Accuracy:96.362%\n",
      "Epoch : 4 [8000/35700 (22%)]\tLoss: 0.280429\t Accuracy:96.414%\n",
      "Epoch : 4 [9600/35700 (27%)]\tLoss: 0.267760\t Accuracy:96.480%\n",
      "Epoch : 4 [11200/35700 (31%)]\tLoss: 0.030869\t Accuracy:96.537%\n",
      "Epoch : 4 [12800/35700 (36%)]\tLoss: 0.089308\t Accuracy:96.587%\n",
      "Epoch : 4 [14400/35700 (40%)]\tLoss: 0.037266\t Accuracy:96.619%\n",
      "Epoch : 4 [16000/35700 (45%)]\tLoss: 0.205159\t Accuracy:96.632%\n",
      "Epoch : 4 [17600/35700 (49%)]\tLoss: 0.343065\t Accuracy:96.586%\n",
      "Epoch : 4 [19200/35700 (54%)]\tLoss: 0.026972\t Accuracy:96.558%\n",
      "Epoch : 4 [20800/35700 (58%)]\tLoss: 0.112105\t Accuracy:96.539%\n",
      "Epoch : 4 [22400/35700 (63%)]\tLoss: 0.029635\t Accuracy:96.590%\n",
      "Epoch : 4 [24000/35700 (67%)]\tLoss: 0.081245\t Accuracy:96.580%\n",
      "Epoch : 4 [25600/35700 (72%)]\tLoss: 0.015953\t Accuracy:96.614%\n",
      "Epoch : 4 [27200/35700 (76%)]\tLoss: 0.010799\t Accuracy:96.640%\n",
      "Epoch : 4 [28800/35700 (81%)]\tLoss: 0.021698\t Accuracy:96.674%\n",
      "Epoch : 4 [30400/35700 (85%)]\tLoss: 0.024866\t Accuracy:96.688%\n",
      "Epoch : 4 [32000/35700 (90%)]\tLoss: 0.062649\t Accuracy:96.691%\n",
      "Epoch : 4 [33600/35700 (94%)]\tLoss: 0.193553\t Accuracy:96.706%\n",
      "Epoch : 4 [35200/35700 (99%)]\tLoss: 0.025866\t Accuracy:96.679%\n"
     ]
    }
   ],
   "source": [
    "fit(mlp, train_loader)"
   ]
  },
  {
   "cell_type": "code",
   "execution_count": 41,
   "metadata": {},
   "outputs": [
    {
     "name": "stdout",
     "output_type": "stream",
     "text": [
      "7\n",
      "tensor(7)\n"
     ]
    },
    {
     "data": {
      "image/png": "[encoded data removed]",
      "text/plain": [
       "<Figure size 640x480 with 1 Axes>"
      ]
     },
     "metadata": {},
     "output_type": "display_data"
    }
   ],
   "source": [
    "mlp.eval()              # turn the model to evaluate mode\n",
    "index = 200\n",
    "torch_X_test = torch.from_numpy(X_test).type(torch.LongTensor)\n",
    "image = torch_X_test[index].float().unsqueeze(0)\n",
    "true_label = y_test[index]\n",
    "with torch.no_grad():     # does not calculate gradient\n",
    "    class_index = mlp(image).argmax()   #gets the prediction for the image's class\n",
    "plt.imshow(image.numpy().reshape(28,28,1), cmap='gray_r');\n",
    "print(true_label)\n",
    "print(class_index)"
   ]
  },
  {
   "cell_type": "code",
   "execution_count": 42,
   "metadata": {},
   "outputs": [
    {
     "name": "stdout",
     "output_type": "stream",
     "text": [
      "F1: 0.9493582408360919\n",
      "Accuracy: 0.9498412698412698\n"
     ]
    }
   ],
   "source": [
    "from sklearn.metrics import precision_recall_fscore_support, accuracy_score\n",
    "\n",
    "pred, labe = [], []\n",
    "with torch.no_grad():\n",
    "    for data, target in test_loader:\n",
    "        data = data.view(data.shape[0], -1)\n",
    "        data = data.float()\n",
    "        output = mlp(data)\n",
    "        preds = output.argmax(dim=1)\n",
    "        pred.extend(preds.numpy())\n",
    "        labe.extend(target.numpy())\n",
    "\n",
    "_, _, f1, _ = precision_recall_fscore_support(labe, pred, average='macro')\n",
    "acc = accuracy_score(labe, pred)\n",
    "\n",
    "print(\"F1:\", f1); print(\"Accuracy:\", acc)"
   ]
  },
  {
   "cell_type": "code",
   "execution_count": 43,
   "metadata": {},
   "outputs": [
    {
     "name": "stdout",
     "output_type": "stream",
     "text": [
      "torch.Size([35700, 1, 28, 28])\n",
      "torch.Size([6300, 1, 28, 28])\n"
     ]
    }
   ],
   "source": [
    "torch_X_train = torch_X_train.view(-1, 1,28,28).float()\n",
    "torch_X_test = torch_X_test.view(-1,1,28,28).float()\n",
    "print(torch_X_train.shape)\n",
    "print(torch_X_test.shape)\n",
    "\n",
    "# Pytorch train and test sets\n",
    "train = torch.utils.data.TensorDataset(torch_X_train,torch_y_train)\n",
    "test = torch.utils.data.TensorDataset(torch_X_test,torch_y_test)\n",
    "\n",
    "# data loader\n",
    "train_loader = torch.utils.data.DataLoader(train, batch_size = BATCH_SIZE, shuffle = False)\n",
    "test_loader = torch.utils.data.DataLoader(test, batch_size = BATCH_SIZE, shuffle = False)"
   ]
  },
  {
   "cell_type": "code",
   "execution_count": 44,
   "metadata": {},
   "outputs": [
    {
     "name": "stdout",
     "output_type": "stream",
     "text": [
      "CNN(\n",
      "  (conv1): Conv2d(1, 32, kernel_size=(5, 5), stride=(1, 1))\n",
      "  (conv2): Conv2d(32, 32, kernel_size=(5, 5), stride=(1, 1))\n",
      "  (conv3): Conv2d(32, 64, kernel_size=(5, 5), stride=(1, 1))\n",
      "  (fc1): Linear(in_features=576, out_features=256, bias=True)\n",
      "  (fc2): Linear(in_features=256, out_features=10, bias=True)\n",
      ")\n",
      "torch.Size([32, 10])\n"
     ]
    }
   ],
   "source": [
    "class CNN(nn.Module):\n",
    "    def __init__(self):\n",
    "        super(CNN, self).__init__()\n",
    "        self.conv1 = nn.Conv2d(1, 32, kernel_size=5)\n",
    "        self.conv2 = nn.Conv2d(32, 32, kernel_size=5)\n",
    "        self.conv3 = nn.Conv2d(32,64, kernel_size=5)\n",
    "        self.fc1 = nn.Linear(3*3*64, 256)\n",
    "        self.fc2 = nn.Linear(256, 10)\n",
    "\n",
    "    def forward(self, x):\n",
    "        x = F.relu(self.conv1(x))\n",
    "        x = F.relu(F.max_pool2d(self.conv2(x), 2))\n",
    "        x = F.dropout(x, p=0.5, training=self.training)\n",
    "        x = F.relu(F.max_pool2d(self.conv3(x),2))\n",
    "        x = F.dropout(x, p=0.5, training=self.training)\n",
    "        x = x.view(-1,3*3*64 )\n",
    "        x = F.relu(self.fc1(x))\n",
    "        x = F.dropout(x, training=self.training)\n",
    "        x = self.fc2(x)\n",
    "        return F.log_softmax(x, dim=1)\n",
    "\n",
    "cnn = CNN()\n",
    "print(cnn)\n",
    "\n",
    "it = iter(train_loader)\n",
    "X_batch, y_batch = next(it)\n",
    "print(cnn.forward(X_batch).shape)"
   ]
  },
  {
   "cell_type": "code",
   "execution_count": 45,
   "metadata": {},
   "outputs": [
    {
     "name": "stdout",
     "output_type": "stream",
     "text": [
      "Epoch : 0 [0/35700 (0%)]\tLoss: 16.755548\t Accuracy:15.625%\n",
      "Epoch : 0 [1600/35700 (4%)]\tLoss: 2.030565\t Accuracy:16.054%\n",
      "Epoch : 0 [3200/35700 (9%)]\tLoss: 1.228704\t Accuracy:30.941%\n",
      "Epoch : 0 [4800/35700 (13%)]\tLoss: 0.874715\t Accuracy:42.984%\n",
      "Epoch : 0 [6400/35700 (18%)]\tLoss: 0.388923\t Accuracy:51.601%\n",
      "Epoch : 0 [8000/35700 (22%)]\tLoss: 0.677385\t Accuracy:57.620%\n",
      "Epoch : 0 [9600/35700 (27%)]\tLoss: 0.639983\t Accuracy:61.898%\n",
      "Epoch : 0 [11200/35700 (31%)]\tLoss: 0.540811\t Accuracy:65.135%\n",
      "Epoch : 0 [12800/35700 (36%)]\tLoss: 0.325609\t Accuracy:67.729%\n",
      "Epoch : 0 [14400/35700 (40%)]\tLoss: 0.687781\t Accuracy:69.782%\n",
      "Epoch : 0 [16000/35700 (45%)]\tLoss: 0.257438\t Accuracy:71.563%\n",
      "Epoch : 0 [17600/35700 (49%)]\tLoss: 0.160791\t Accuracy:73.162%\n",
      "Epoch : 0 [19200/35700 (54%)]\tLoss: 0.244723\t Accuracy:74.444%\n",
      "Epoch : 0 [20800/35700 (58%)]\tLoss: 0.194989\t Accuracy:75.586%\n",
      "Epoch : 0 [22400/35700 (63%)]\tLoss: 0.198802\t Accuracy:76.614%\n",
      "Epoch : 0 [24000/35700 (67%)]\tLoss: 0.336842\t Accuracy:77.451%\n",
      "Epoch : 0 [25600/35700 (72%)]\tLoss: 0.186137\t Accuracy:78.320%\n",
      "Epoch : 0 [27200/35700 (76%)]\tLoss: 0.153280\t Accuracy:79.139%\n",
      "Epoch : 0 [28800/35700 (81%)]\tLoss: 0.291511\t Accuracy:79.831%\n",
      "Epoch : 0 [30400/35700 (85%)]\tLoss: 0.456101\t Accuracy:80.376%\n",
      "Epoch : 0 [32000/35700 (90%)]\tLoss: 0.233035\t Accuracy:80.891%\n",
      "Epoch : 0 [33600/35700 (94%)]\tLoss: 0.334103\t Accuracy:81.396%\n",
      "Epoch : 0 [35200/35700 (99%)]\tLoss: 0.095028\t Accuracy:81.843%\n",
      "Epoch : 1 [0/35700 (0%)]\tLoss: 0.499549\t Accuracy:90.625%\n",
      "Epoch : 1 [1600/35700 (4%)]\tLoss: 0.280109\t Accuracy:92.463%\n",
      "Epoch : 1 [3200/35700 (9%)]\tLoss: 0.069157\t Accuracy:92.203%\n",
      "Epoch : 1 [4800/35700 (13%)]\tLoss: 0.337350\t Accuracy:92.094%\n",
      "Epoch : 1 [6400/35700 (18%)]\tLoss: 0.093332\t Accuracy:92.506%\n",
      "Epoch : 1 [8000/35700 (22%)]\tLoss: 0.849025\t Accuracy:92.766%\n",
      "Epoch : 1 [9600/35700 (27%)]\tLoss: 0.273471\t Accuracy:92.816%\n",
      "Epoch : 1 [11200/35700 (31%)]\tLoss: 0.271436\t Accuracy:92.949%\n",
      "Epoch : 1 [12800/35700 (36%)]\tLoss: 0.265544\t Accuracy:92.994%\n",
      "Epoch : 1 [14400/35700 (40%)]\tLoss: 0.170434\t Accuracy:92.995%\n",
      "Epoch : 1 [16000/35700 (45%)]\tLoss: 0.459416\t Accuracy:93.114%\n",
      "Epoch : 1 [17600/35700 (49%)]\tLoss: 0.077376\t Accuracy:93.211%\n",
      "Epoch : 1 [19200/35700 (54%)]\tLoss: 0.318008\t Accuracy:93.303%\n",
      "Epoch : 1 [20800/35700 (58%)]\tLoss: 0.471534\t Accuracy:93.323%\n",
      "Epoch : 1 [22400/35700 (63%)]\tLoss: 0.302383\t Accuracy:93.255%\n",
      "Epoch : 1 [24000/35700 (67%)]\tLoss: 1.053233\t Accuracy:93.242%\n",
      "Epoch : 1 [25600/35700 (72%)]\tLoss: 0.429028\t Accuracy:93.255%\n",
      "Epoch : 1 [27200/35700 (76%)]\tLoss: 0.141726\t Accuracy:93.335%\n",
      "Epoch : 1 [28800/35700 (81%)]\tLoss: 0.276490\t Accuracy:93.365%\n",
      "Epoch : 1 [30400/35700 (85%)]\tLoss: 0.368360\t Accuracy:93.454%\n",
      "Epoch : 1 [32000/35700 (90%)]\tLoss: 0.283476\t Accuracy:93.485%\n",
      "Epoch : 1 [33600/35700 (94%)]\tLoss: 0.221050\t Accuracy:93.506%\n",
      "Epoch : 1 [35200/35700 (99%)]\tLoss: 0.186310\t Accuracy:93.469%\n",
      "Epoch : 2 [0/35700 (0%)]\tLoss: 0.365228\t Accuracy:87.500%\n",
      "Epoch : 2 [1600/35700 (4%)]\tLoss: 0.640307\t Accuracy:92.463%\n",
      "Epoch : 2 [3200/35700 (9%)]\tLoss: 0.074811\t Accuracy:92.791%\n",
      "Epoch : 2 [4800/35700 (13%)]\tLoss: 0.496745\t Accuracy:93.233%\n",
      "Epoch : 2 [6400/35700 (18%)]\tLoss: 0.254942\t Accuracy:93.408%\n",
      "Epoch : 2 [8000/35700 (22%)]\tLoss: 0.425931\t Accuracy:93.638%\n",
      "Epoch : 2 [9600/35700 (27%)]\tLoss: 0.313707\t Accuracy:93.906%\n",
      "Epoch : 2 [11200/35700 (31%)]\tLoss: 0.298134\t Accuracy:94.053%\n",
      "Epoch : 2 [12800/35700 (36%)]\tLoss: 0.103527\t Accuracy:94.132%\n",
      "Epoch : 2 [14400/35700 (40%)]\tLoss: 0.208539\t Accuracy:94.242%\n",
      "Epoch : 2 [16000/35700 (45%)]\tLoss: 0.016472\t Accuracy:94.255%\n",
      "Epoch : 2 [17600/35700 (49%)]\tLoss: 0.118699\t Accuracy:94.283%\n",
      "Epoch : 2 [19200/35700 (54%)]\tLoss: 0.361609\t Accuracy:94.275%\n",
      "Epoch : 2 [20800/35700 (58%)]\tLoss: 0.139970\t Accuracy:94.369%\n",
      "Epoch : 2 [22400/35700 (63%)]\tLoss: 0.101343\t Accuracy:94.441%\n",
      "Epoch : 2 [24000/35700 (67%)]\tLoss: 0.625272\t Accuracy:94.441%\n",
      "Epoch : 2 [25600/35700 (72%)]\tLoss: 0.265475\t Accuracy:94.448%\n",
      "Epoch : 2 [27200/35700 (76%)]\tLoss: 0.044377\t Accuracy:94.536%\n",
      "Epoch : 2 [28800/35700 (81%)]\tLoss: 0.323832\t Accuracy:94.499%\n",
      "Epoch : 2 [30400/35700 (85%)]\tLoss: 0.224945\t Accuracy:94.535%\n",
      "Epoch : 2 [32000/35700 (90%)]\tLoss: 0.319872\t Accuracy:94.518%\n",
      "Epoch : 2 [33600/35700 (94%)]\tLoss: 0.086154\t Accuracy:94.541%\n",
      "Epoch : 2 [35200/35700 (99%)]\tLoss: 0.090801\t Accuracy:94.522%\n",
      "Epoch : 3 [0/35700 (0%)]\tLoss: 0.621155\t Accuracy:84.375%\n",
      "Epoch : 3 [1600/35700 (4%)]\tLoss: 0.281580\t Accuracy:93.627%\n",
      "Epoch : 3 [3200/35700 (9%)]\tLoss: 0.013280\t Accuracy:94.462%\n",
      "Epoch : 3 [4800/35700 (13%)]\tLoss: 0.096580\t Accuracy:94.454%\n",
      "Epoch : 3 [6400/35700 (18%)]\tLoss: 0.019651\t Accuracy:94.434%\n",
      "Epoch : 3 [8000/35700 (22%)]\tLoss: 0.543978\t Accuracy:94.559%\n",
      "Epoch : 3 [9600/35700 (27%)]\tLoss: 0.132877\t Accuracy:94.799%\n",
      "Epoch : 3 [11200/35700 (31%)]\tLoss: 0.384895\t Accuracy:95.041%\n",
      "Epoch : 3 [12800/35700 (36%)]\tLoss: 0.136803\t Accuracy:95.067%\n",
      "Epoch : 3 [14400/35700 (40%)]\tLoss: 0.276917\t Accuracy:95.011%\n",
      "Epoch : 3 [16000/35700 (45%)]\tLoss: 0.046920\t Accuracy:95.085%\n",
      "Epoch : 3 [17600/35700 (49%)]\tLoss: 0.061401\t Accuracy:95.026%\n",
      "Epoch : 3 [19200/35700 (54%)]\tLoss: 0.191067\t Accuracy:95.014%\n",
      "Epoch : 3 [20800/35700 (58%)]\tLoss: 0.121967\t Accuracy:95.032%\n",
      "Epoch : 3 [22400/35700 (63%)]\tLoss: 0.013893\t Accuracy:95.061%\n",
      "Epoch : 3 [24000/35700 (67%)]\tLoss: 0.644815\t Accuracy:95.090%\n",
      "Epoch : 3 [25600/35700 (72%)]\tLoss: 0.329027\t Accuracy:95.053%\n",
      "Epoch : 3 [27200/35700 (76%)]\tLoss: 0.052465\t Accuracy:95.054%\n",
      "Epoch : 3 [28800/35700 (81%)]\tLoss: 0.336622\t Accuracy:95.061%\n",
      "Epoch : 3 [30400/35700 (85%)]\tLoss: 0.197694\t Accuracy:95.101%\n",
      "Epoch : 3 [32000/35700 (90%)]\tLoss: 0.178924\t Accuracy:95.117%\n",
      "Epoch : 3 [33600/35700 (94%)]\tLoss: 0.518076\t Accuracy:95.124%\n",
      "Epoch : 3 [35200/35700 (99%)]\tLoss: 0.037162\t Accuracy:95.078%\n",
      "Epoch : 4 [0/35700 (0%)]\tLoss: 0.921134\t Accuracy:87.500%\n",
      "Epoch : 4 [1600/35700 (4%)]\tLoss: 0.242032\t Accuracy:95.221%\n",
      "Epoch : 4 [3200/35700 (9%)]\tLoss: 0.016875\t Accuracy:95.328%\n",
      "Epoch : 4 [4800/35700 (13%)]\tLoss: 0.352037\t Accuracy:95.219%\n",
      "Epoch : 4 [6400/35700 (18%)]\tLoss: 0.046007\t Accuracy:95.134%\n",
      "Epoch : 4 [8000/35700 (22%)]\tLoss: 0.259214\t Accuracy:95.269%\n",
      "Epoch : 4 [9600/35700 (27%)]\tLoss: 0.128010\t Accuracy:95.328%\n",
      "Epoch : 4 [11200/35700 (31%)]\tLoss: 0.291746\t Accuracy:95.326%\n",
      "Epoch : 4 [12800/35700 (36%)]\tLoss: 0.330328\t Accuracy:95.332%\n",
      "Epoch : 4 [14400/35700 (40%)]\tLoss: 0.471606\t Accuracy:95.267%\n",
      "Epoch : 4 [16000/35700 (45%)]\tLoss: 0.034497\t Accuracy:95.222%\n",
      "Epoch : 4 [17600/35700 (49%)]\tLoss: 0.022803\t Accuracy:95.230%\n",
      "Epoch : 4 [19200/35700 (54%)]\tLoss: 0.089318\t Accuracy:95.253%\n",
      "Epoch : 4 [20800/35700 (58%)]\tLoss: 0.473680\t Accuracy:95.190%\n",
      "Epoch : 4 [22400/35700 (63%)]\tLoss: 0.085394\t Accuracy:95.199%\n",
      "Epoch : 4 [24000/35700 (67%)]\tLoss: 0.726345\t Accuracy:95.181%\n",
      "Epoch : 4 [25600/35700 (72%)]\tLoss: 0.169054\t Accuracy:95.147%\n",
      "Epoch : 4 [27200/35700 (76%)]\tLoss: 0.005634\t Accuracy:95.123%\n",
      "Epoch : 4 [28800/35700 (81%)]\tLoss: 0.121326\t Accuracy:95.172%\n",
      "Epoch : 4 [30400/35700 (85%)]\tLoss: 0.100479\t Accuracy:95.150%\n",
      "Epoch : 4 [32000/35700 (90%)]\tLoss: 0.371655\t Accuracy:95.124%\n",
      "Epoch : 4 [33600/35700 (94%)]\tLoss: 0.163687\t Accuracy:95.180%\n",
      "Epoch : 4 [35200/35700 (99%)]\tLoss: 0.095925\t Accuracy:95.166%\n"
     ]
    }
   ],
   "source": [
    "fit(cnn,train_loader)"
   ]
  },
  {
   "cell_type": "code",
   "execution_count": 46,
   "metadata": {},
   "outputs": [
    {
     "name": "stdout",
     "output_type": "stream",
     "text": [
      "3\n",
      "tensor(3)\n"
     ]
    },
    {
     "data": {
      "image/png": "[encoded data removed]",
      "text/plain": [
       "<Figure size 640x480 with 1 Axes>"
      ]
     },
     "metadata": {},
     "output_type": "display_data"
    }
   ],
   "source": [
    "cnn.eval()              # turn the model to evaluate mode\n",
    "index = 100\n",
    "torch_X_test = torch_X_test.view(-1,1,28,28).float().type(torch.LongTensor)\n",
    "image = torch_X_test[index].float().unsqueeze(0)\n",
    "true_label = y_test[index]\n",
    "with torch.no_grad():     # does not calculate gradient\n",
    "    class_index = cnn(image).argmax()   #gets the prediction for the image's class\n",
    "plt.imshow(image.numpy().reshape(28,28,1), cmap='gray_r');\n",
    "print(true_label)\n",
    "print(class_index)"
   ]
  },
  {
   "cell_type": "code",
   "execution_count": 47,
   "metadata": {},
   "outputs": [
    {
     "name": "stdout",
     "output_type": "stream",
     "text": [
      "F1 Score: 0.9798854624044069\n",
      "Accuracy: 0.98\n"
     ]
    }
   ],
   "source": [
    "pred, labe = [], []\n",
    "with torch.no_grad():\n",
    "    for data, target in test_loader:\n",
    "        output = cnn(data)\n",
    "        preds = output.argmax(dim=1)\n",
    "        pred.extend(preds.numpy())\n",
    "        labe.extend(target.numpy())\n",
    "        \n",
    "_, _, f1, _ = precision_recall_fscore_support(labe, pred, average='macro')\n",
    "accuracy = accuracy_score(labe, pred)\n",
    "\n",
    "print(\"F1 Score:\", f1); print(\"Accuracy:\", accuracy)"
   ]
  },
  {
   "cell_type": "markdown",
   "metadata": {},
   "source": [
    "Describe the performance of the MLP and CNN models? Performance can include training time, accuracy, etc."
   ]
  },
  {
   "cell_type": "markdown",
   "metadata": {},
   "source": [
    "Loss: The MLP has a significantly less loss, indicating a better fit to the training set and fewer prediction mistakes.\n",
    "\n",
    "Accuracy: MLP performs better on test data, although MLP performs better on training data. This shows that, in comparison to the MLP, the CNN is more effective in generalizing to new data.\n",
    "\n",
    "F1 Score: On test data, the CNN consistently beats the MLP on F1 Score, suggesting that it could be more dependable for tasks requiring equal performance across classes.\n",
    "\n",
    "Training Time: The MLP takes only 2.9 seconds, but the CNN takes 1 minute and 58 seconds. This is a substantial difference in efficiency."
   ]
  },
  {
   "cell_type": "markdown",
   "metadata": {},
   "source": [
    "Extra Credit: Describe the below code and the output"
   ]
  },
  {
   "cell_type": "code",
   "execution_count": 48,
   "metadata": {},
   "outputs": [
    {
     "name": "stdout",
     "output_type": "stream",
     "text": [
      "Init idx: 3\n",
      "13.823554992675781 -1.0728830375228426e-06 -13.823555946350098\n",
      "\n",
      "Job done, breaking\n",
      "tensor([-2.1452, -2.1217, -2.2663, -2.3947, -2.4194, -2.3471, -2.5375, -2.3667,\n",
      "        -2.1326, -2.3835])\n"
     ]
    },
    {
     "data": {
      "text/plain": [
       "1"
      ]
     },
     "execution_count": 48,
     "metadata": {},
     "output_type": "execute_result"
    },
    {
     "data": {
      "image/png": "[encoded data removed]",
      "text/plain": [
       "<Figure size 640x480 with 1 Axes>"
      ]
     },
     "metadata": {},
     "output_type": "display_data"
    }
   ],
   "source": [
    "model = cnn\n",
    "#torch_X_test = torch_X_test.view(-1,1,28,28).float().type(torch.LongTensor)\n",
    "\n",
    "x = torch_X_test[index].float().clone()\n",
    "x.requires_grad_(True)\n",
    "\n",
    "with torch.no_grad():\n",
    "    logits = model(x.unsqueeze(0)).squeeze()\n",
    "    IMX = torch.argmax(logits)\n",
    "print(\"Init idx:\",IMX.item())\n",
    "    \n",
    "lr=.01\n",
    "\n",
    "while True:\n",
    "    logits = model(x.unsqueeze(0)).squeeze()\n",
    "    imx = torch.argmax(logits)\n",
    "    \n",
    "    if imx!=IMX: \n",
    "        print(\"Job done, breaking\")\n",
    "        break\n",
    "    \n",
    "    y = logits.clone()\n",
    "    y[imx] = -99\n",
    "    loss = logits.max() - y.max() \n",
    "    loss.backward()\n",
    "    \n",
    "    x.data.sub_(lr*x.grad.data)\n",
    "    print(loss.item(),logits.max().item(), y.max().item() )\n",
    "    print()\n",
    "    x.grad.data.zero_()\n",
    "    x.data.sub_(x.data.min())\n",
    "    x.data.mul_(1/x.data.max())\n",
    "\n",
    "with torch.no_grad():\n",
    "    print(model(x.unsqueeze(0)).squeeze())\n",
    "\n",
    "plt.imshow(x.detach().cpu().numpy().transpose(1,2,0).reshape(28,28));torch.argmax(model(x.unsqueeze(0))).item()"
   ]
  },
  {
   "cell_type": "markdown",
   "metadata": {},
   "source": [
    "The code applies modifications to an image, which a convolutional neural network (CNN) initially recognizes as class \"3\". The goal is to subtly alter the image such that, despite minimal visual changes apparent to the human eye, the CNN's prediction shifts. After the adjustments, the network misclassifies the image as class \"1\". \n",
    "\n",
    "This technique illustrates how small, calculated changes to an image can deceive a neural network into making incorrect predictions, highlighting potential vulnerabilities in machine learning models."
   ]
  },
  {
   "cell_type": "markdown",
   "metadata": {},
   "source": [
    "Output-\n",
    "\n",
    "\n",
    "As modifications are applied, a loop tracks these changes by printing out the loss, which indicates a decreasing confidence in the original class prediction. \n",
    "\n",
    "Once the modifications are successful in shifting the predicted class from 0 to another, a message stating \"Job done, breaking\" is displayed, signaling the end of the process. \n",
    "\n",
    "Subsequently, the final tensor is examined to reveal the logits for each class following the modification. Lastly, the modified image is displayed using plt.imshow, and the new predicted class, now class 8, is confirmed through a call to torch.argmax."
   ]
  }
 ],
 "metadata": {
  "kernelspec": {
   "display_name": "Python 3 (ipykernel)",
   "language": "python",
   "name": "python3"
  },
  "language_info": {
   "codemirror_mode": {
    "name": "ipython",
    "version": 3
   },
   "file_extension": ".py",
   "mimetype": "text/x-python",
   "name": "python",
   "nbconvert_exporter": "python",
   "pygments_lexer": "ipython3",
   "version": "3.9.6"
  }
 },
 "nbformat": 4,
 "nbformat_minor": 4
}
